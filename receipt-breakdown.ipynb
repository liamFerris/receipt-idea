{
 "cells": [
  {
   "cell_type": "markdown",
   "metadata": {},
   "source": [
    "### Example Receipt:"
   ]
  },
  {
   "cell_type": "markdown",
   "metadata": {},
   "source": [
    "<img src=\"http://www.trbimg.com/img-561b165a/turbine/la-sp-sarkisian-receipt-20151011\" width=\"200\">"
   ]
  },
  {
   "cell_type": "markdown",
   "metadata": {},
   "source": [
    "### OCR using Tesseract\n",
    "`$ brew install tesseract`\n",
    "\n",
    "`$ pip install pytesseract`"
   ]
  },
  {
   "cell_type": "code",
   "execution_count": 1,
   "metadata": {},
   "outputs": [],
   "source": [
    "from PIL import Image\n",
    "import requests\n",
    "from io import BytesIO\n",
    "import pytesseract"
   ]
  },
  {
   "cell_type": "code",
   "execution_count": 2,
   "metadata": {},
   "outputs": [],
   "source": [
    "img_url = \"http://www.trbimg.com/img-561b165a/turbine/la-sp-sarkisian-receipt-20151011\"\n",
    "response = requests.get(img_url)\n",
    "img = Image.open(BytesIO(response.content))"
   ]
  },
  {
   "cell_type": "code",
   "execution_count": 4,
   "metadata": {},
   "outputs": [
    {
     "name": "stdout",
     "output_type": "stream",
     "text": [
      "THE SUNCADIA RESORT\n",
      "\n",
      "TC GOLF HOUSE\n",
      "1103 CLAIRE i\"\n",
      "V5 1275 6st 1\n",
      "SARK\n",
      "\n",
      "JUNOS'11 10: 16AM\n",
      "\n",
      "35 HEINEKEN 157.50\n",
      "35 COORS LT 175.00\n",
      "12 GREY GOSSE 120.00\n",
      "7 BUD LIGHT 35.00\n",
      "7 BAJA CHICKEN 84.00\n",
      "2 RANCHER 24.00\n",
      "1 CLASSIC 8.00\n",
      "1 SALMON BLT 13.00\n",
      "1 DRIVER 12.00\n",
      "6 CORONA 36.00\n",
      "2 7-UP 4,50\n",
      "Subtotal 669.00\n",
      "Tax 53.52\n",
      "\n",
      "3:36 Arent Que $722.52\n",
      "FOR HOTEL GUEST ROOM CHARGE ONLY\n",
      "Gratuity.\n"
     ]
    }
   ],
   "source": [
    "ocr_text = pytesseract.image_to_string(img)\n",
    "print (ocr_text)"
   ]
  },
  {
   "cell_type": "markdown",
   "metadata": {},
   "source": [
    "### Entity recognition using spacy\n",
    "`$ pip install spacy`\n",
    "\n",
    "`$ python -m spacy download en_core_web_sm`"
   ]
  },
  {
   "cell_type": "code",
   "execution_count": 5,
   "metadata": {},
   "outputs": [],
   "source": [
    "import spacy"
   ]
  },
  {
   "cell_type": "code",
   "execution_count": 6,
   "metadata": {},
   "outputs": [],
   "source": [
    "nlp = spacy.load('en_core_web_sm')"
   ]
  },
  {
   "cell_type": "code",
   "execution_count": 7,
   "metadata": {},
   "outputs": [
    {
     "name": "stdout",
     "output_type": "stream",
     "text": [
      "GOLF HOUSE ORG\n",
      "1103 DATE\n",
      "CLAIRE ORG\n",
      "\n",
      " GPE\n",
      "1275 6st 1\n",
      " DATE\n",
      "10 CARDINAL\n",
      "35 CARDINAL\n",
      "HEINEKEN ORG\n",
      "157.50 PRODUCT\n",
      "35 CARDINAL\n",
      "COORS LT 175.00\n",
      "12 GREY ORG\n",
      "120.00 CARDINAL\n",
      "7 BUD LIGHT PRODUCT\n",
      "35.00 CARDINAL\n",
      "84.00 CARDINAL\n",
      "\n",
      " GPE\n",
      "2 CARDINAL\n",
      "24.00 CARDINAL\n",
      "8.00 CARDINAL\n",
      "\n",
      "1 SALMON BLT 13.00\n",
      "1 DRIVER EVENT\n",
      "12.00 CARDINAL\n",
      "6 CARDINAL\n",
      "4,50\n",
      "Subtotal 669.00\n",
      " ORG\n",
      "722.52 MONEY\n",
      "\n",
      "FOR HOTEL GUEST ROOM CHARGE ORG\n",
      "\n",
      " GPE\n"
     ]
    }
   ],
   "source": [
    "doc = nlp(ocr_text)\n",
    "for entity in doc.ents:\n",
    "    print(entity.text, entity.label_)"
   ]
  },
  {
   "cell_type": "markdown",
   "metadata": {},
   "source": [
    "Can get the total price using the default 'MONEY' spacy entity type:"
   ]
  },
  {
   "cell_type": "code",
   "execution_count": 10,
   "metadata": {},
   "outputs": [
    {
     "data": {
      "text/plain": [
       "722.52"
      ]
     },
     "execution_count": 10,
     "metadata": {},
     "output_type": "execute_result"
    }
   ],
   "source": [
    "total = 0\n",
    "for entity in doc.ents:\n",
    "    if (entity.label_ == 'MONEY'):\n",
    "        total = float(entity.text)\n",
    "total"
   ]
  },
  {
   "cell_type": "markdown",
   "metadata": {},
   "source": [
    "Techniques like NER (named entity recognition) could be used here, using tools like spacy.\n",
    "Spacy could be trained with custom entities, e.g. \"item\" \"price\" \"total price\" \"account number\""
   ]
  },
  {
   "cell_type": "markdown",
   "metadata": {},
   "source": [
    "### Some data cleaning & investigation"
   ]
  },
  {
   "cell_type": "code",
   "execution_count": 11,
   "metadata": {},
   "outputs": [
    {
     "data": {
      "text/plain": [
       "['THE SUNCADIA RESORT',\n",
       " '',\n",
       " 'TC GOLF HOUSE',\n",
       " '1103 CLAIRE i\"',\n",
       " 'V5 1275 6st 1',\n",
       " 'SARK',\n",
       " '',\n",
       " \"JUNOS'11 10: 16AM\",\n",
       " '',\n",
       " '35 HEINEKEN 157.50',\n",
       " '35 COORS LT 175.00',\n",
       " '12 GREY GOSSE 120.00',\n",
       " '7 BUD LIGHT 35.00',\n",
       " '7 BAJA CHICKEN 84.00',\n",
       " '2 RANCHER 24.00',\n",
       " '1 CLASSIC 8.00',\n",
       " '1 SALMON BLT 13.00',\n",
       " '1 DRIVER 12.00',\n",
       " '6 CORONA 36.00',\n",
       " '2 7-UP 4,50',\n",
       " 'Subtotal 669.00',\n",
       " 'Tax 53.52',\n",
       " '',\n",
       " '3:36 Arent Que $722.52',\n",
       " 'FOR HOTEL GUEST ROOM CHARGE ONLY',\n",
       " 'Gratuity.']"
      ]
     },
     "execution_count": 11,
     "metadata": {},
     "output_type": "execute_result"
    }
   ],
   "source": [
    "ocr_arr = ocr_text.split('\\n')\n",
    "ocr_arr"
   ]
  },
  {
   "cell_type": "markdown",
   "metadata": {},
   "source": [
    "Getting every line ending with a number:"
   ]
  },
  {
   "cell_type": "code",
   "execution_count": 12,
   "metadata": {},
   "outputs": [],
   "source": [
    "def valid_line(s):\n",
    "    str_arr = s.split(' ')\n",
    "    return (str_arr[len(str_arr) - 1].replace(\".\", \"\", 1).isdigit())\n",
    "\n",
    "def number_ending_lines(items):\n",
    "    return list(filter(lambda x: valid_line(x), items))"
   ]
  },
  {
   "cell_type": "code",
   "execution_count": 13,
   "metadata": {},
   "outputs": [
    {
     "data": {
      "text/plain": [
       "['V5 1275 6st 1',\n",
       " '35 HEINEKEN 157.50',\n",
       " '35 COORS LT 175.00',\n",
       " '12 GREY GOSSE 120.00',\n",
       " '7 BUD LIGHT 35.00',\n",
       " '7 BAJA CHICKEN 84.00',\n",
       " '2 RANCHER 24.00',\n",
       " '1 CLASSIC 8.00',\n",
       " '1 SALMON BLT 13.00',\n",
       " '1 DRIVER 12.00',\n",
       " '6 CORONA 36.00',\n",
       " 'Subtotal 669.00',\n",
       " 'Tax 53.52']"
      ]
     },
     "execution_count": 13,
     "metadata": {},
     "output_type": "execute_result"
    }
   ],
   "source": [
    "filtered_list = number_ending_lines(ocr_arr)\n",
    "filtered_list"
   ]
  },
  {
   "cell_type": "markdown",
   "metadata": {},
   "source": [
    "Trying to use subset sum on all the numbers at the end of lines to sum to the total. e.g. the items purchased"
   ]
  },
  {
   "cell_type": "code",
   "execution_count": 44,
   "metadata": {},
   "outputs": [],
   "source": [
    "def subsetsum(array,num):\n",
    "    if num == 0 or num < 1:\n",
    "        return None\n",
    "    elif len(array) == 0:\n",
    "        return None\n",
    "    else:\n",
    "        if array[0] == num:\n",
    "            return [array[0]]\n",
    "        else:\n",
    "            with_v = subsetsum(array[1:],(num - array[0])) \n",
    "            if with_v:\n",
    "                return [array[0]] + with_v\n",
    "            else:\n",
    "                return subsetsum(array[1:],num)\n",
    "\n",
    "def get_prices(items):\n",
    "    prices = []\n",
    "    for item in items:\n",
    "        prices.append(float(item.split(' ')[len(item.split(' ')) - 1]))\n",
    "    prices = list(filter(lambda x: x != total, prices))\n",
    "    return prices"
   ]
  },
  {
   "cell_type": "code",
   "execution_count": 58,
   "metadata": {},
   "outputs": [
    {
     "data": {
      "text/plain": [
       "[1.0,\n",
       " 157.5,\n",
       " 175.0,\n",
       " 120.0,\n",
       " 35.0,\n",
       " 84.0,\n",
       " 24.0,\n",
       " 8.0,\n",
       " 13.0,\n",
       " 12.0,\n",
       " 36.0,\n",
       " 669.0,\n",
       " 53.52]"
      ]
     },
     "execution_count": 58,
     "metadata": {},
     "output_type": "execute_result"
    }
   ],
   "source": [
    "prices = get_prices(filtered_list)\n",
    "prices"
   ]
  },
  {
   "cell_type": "code",
   "execution_count": 59,
   "metadata": {},
   "outputs": [
    {
     "data": {
      "text/plain": [
       "722.52"
      ]
     },
     "execution_count": 59,
     "metadata": {},
     "output_type": "execute_result"
    }
   ],
   "source": [
    "total"
   ]
  },
  {
   "cell_type": "markdown",
   "metadata": {},
   "source": [
    "Converting to integers:"
   ]
  },
  {
   "cell_type": "code",
   "execution_count": 61,
   "metadata": {},
   "outputs": [],
   "source": [
    "prices_penny = list(map(lambda x: int(x * 100), prices))\n",
    "total_penny = int(total * 100)\n",
    "ans = subsetsum(prices_penny, total_penny)"
   ]
  },
  {
   "cell_type": "code",
   "execution_count": 62,
   "metadata": {},
   "outputs": [
    {
     "name": "stdout",
     "output_type": "stream",
     "text": [
      "[66900, 5352]\n"
     ]
    }
   ],
   "source": [
    "print (ans)"
   ]
  },
  {
   "cell_type": "markdown",
   "metadata": {},
   "source": [
    "The '2 7-UP 4,50' line was ignored as the decimal point was read as a comma"
   ]
  },
  {
   "cell_type": "code",
   "execution_count": 63,
   "metadata": {},
   "outputs": [
    {
     "name": "stdout",
     "output_type": "stream",
     "text": [
      "None\n"
     ]
    }
   ],
   "source": [
    "prices_penny.append(int(4.50 * 100))\n",
    "ans_with_7up = subsetsum(prices_penny, total_pe)\n",
    "print (ans_with_7up)"
   ]
  },
  {
   "cell_type": "markdown",
   "metadata": {},
   "source": [
    "Adding the 4.50 back gives us a valid subset of our original set - showing which numbers represent subpurchases on this receipt"
   ]
  }
 ],
 "metadata": {
  "kernelspec": {
   "display_name": "Python 3",
   "language": "python",
   "name": "python3"
  },
  "language_info": {
   "codemirror_mode": {
    "name": "ipython",
    "version": 3
   },
   "file_extension": ".py",
   "mimetype": "text/x-python",
   "name": "python",
   "nbconvert_exporter": "python",
   "pygments_lexer": "ipython3",
   "version": "3.7.0"
  }
 },
 "nbformat": 4,
 "nbformat_minor": 2
}
