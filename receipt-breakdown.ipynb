{
 "cells": [
  {
   "cell_type": "markdown",
   "metadata": {},
   "source": [
    "### Example Receipt:"
   ]
  },
  {
   "cell_type": "markdown",
   "metadata": {},
   "source": [
    "<img src=\"http://www.trbimg.com/img-561b165a/turbine/la-sp-sarkisian-receipt-20151011\" width=\"200\">"
   ]
  },
  {
   "cell_type": "markdown",
   "metadata": {},
   "source": [
    "### OCR using Tesseract\n",
    "`$ brew install tesseract`\n",
    "\n",
    "`$ pip install pytesseract`"
   ]
  },
  {
   "cell_type": "code",
   "execution_count": 1,
   "metadata": {},
   "outputs": [],
   "source": [
    "from PIL import Image\n",
    "import requests\n",
    "from io import BytesIO\n",
    "import pytesseract"
   ]
  },
  {
   "cell_type": "code",
   "execution_count": 2,
   "metadata": {},
   "outputs": [],
   "source": [
    "img_url = \"http://www.trbimg.com/img-561b165a/turbine/la-sp-sarkisian-receipt-20151011\"\n",
    "response = requests.get(img_url)\n",
    "img = Image.open(BytesIO(response.content))"
   ]
  },
  {
   "cell_type": "code",
   "execution_count": 3,
   "metadata": {},
   "outputs": [
    {
     "name": "stdout",
     "output_type": "stream",
     "text": [
      "THE SUNCADIA RESORT\n",
      "\n",
      "TC GOLF HOUSE\n",
      "1103 CLAIRE i\"\n",
      "V5 1275 6st 1\n",
      "SARK\n",
      "\n",
      "JUNOS'11 10: 16AM\n",
      "\n",
      "35 HEINEKEN 157.50\n",
      "35 COORS LT 175.00\n",
      "12 GREY GOSSE 120.00\n",
      "7 BUD LIGHT 35.00\n",
      "7 BAJA CHICKEN 84.00\n",
      "2 RANCHER 24.00\n",
      "1 CLASSIC 8.00\n",
      "1 SALMON BLT 13.00\n",
      "1 DRIVER 12.00\n",
      "6 CORONA 36.00\n",
      "2 7-UP 4,50\n",
      "Subtotal 669.00\n",
      "Tax 53.52\n",
      "\n",
      "3:36 Arent Que $722.52\n",
      "FOR HOTEL GUEST ROOM CHARGE ONLY\n",
      "Gratuity.\n"
     ]
    }
   ],
   "source": [
    "ocr_text = pytesseract.image_to_string(img)\n",
    "print (ocr_text)"
   ]
  },
  {
   "cell_type": "markdown",
   "metadata": {},
   "source": [
    "### Entity recognition using spacy\n",
    "`$ pip install spacy`\n",
    "\n",
    "`$ python -m spacy download en_core_web_sm`"
   ]
  },
  {
   "cell_type": "code",
   "execution_count": 4,
   "metadata": {},
   "outputs": [],
   "source": [
    "import spacy\n",
    "import pandas as pd"
   ]
  },
  {
   "cell_type": "code",
   "execution_count": 5,
   "metadata": {},
   "outputs": [],
   "source": [
    "nlp = spacy.load('en_core_web_sm')"
   ]
  },
  {
   "cell_type": "code",
   "execution_count": 6,
   "metadata": {},
   "outputs": [
    {
     "data": {
      "text/html": [
       "<div>\n",
       "<style scoped>\n",
       "    .dataframe tbody tr th:only-of-type {\n",
       "        vertical-align: middle;\n",
       "    }\n",
       "\n",
       "    .dataframe tbody tr th {\n",
       "        vertical-align: top;\n",
       "    }\n",
       "\n",
       "    .dataframe thead th {\n",
       "        text-align: right;\n",
       "    }\n",
       "</style>\n",
       "<table border=\"1\" class=\"dataframe\">\n",
       "  <thead>\n",
       "    <tr style=\"text-align: right;\">\n",
       "      <th></th>\n",
       "      <th>text</th>\n",
       "      <th>label</th>\n",
       "    </tr>\n",
       "  </thead>\n",
       "  <tbody>\n",
       "    <tr>\n",
       "      <th>0</th>\n",
       "      <td>GOLF HOUSE</td>\n",
       "      <td>ORG</td>\n",
       "    </tr>\n",
       "    <tr>\n",
       "      <th>1</th>\n",
       "      <td>1103</td>\n",
       "      <td>DATE</td>\n",
       "    </tr>\n",
       "    <tr>\n",
       "      <th>2</th>\n",
       "      <td>CLAIRE</td>\n",
       "      <td>ORG</td>\n",
       "    </tr>\n",
       "    <tr>\n",
       "      <th>3</th>\n",
       "      <td>\\n</td>\n",
       "      <td>GPE</td>\n",
       "    </tr>\n",
       "    <tr>\n",
       "      <th>4</th>\n",
       "      <td>1275 6st 1\\n</td>\n",
       "      <td>DATE</td>\n",
       "    </tr>\n",
       "    <tr>\n",
       "      <th>5</th>\n",
       "      <td>10</td>\n",
       "      <td>CARDINAL</td>\n",
       "    </tr>\n",
       "    <tr>\n",
       "      <th>6</th>\n",
       "      <td>35</td>\n",
       "      <td>CARDINAL</td>\n",
       "    </tr>\n",
       "    <tr>\n",
       "      <th>7</th>\n",
       "      <td>HEINEKEN</td>\n",
       "      <td>ORG</td>\n",
       "    </tr>\n",
       "    <tr>\n",
       "      <th>8</th>\n",
       "      <td>157.50</td>\n",
       "      <td>PRODUCT</td>\n",
       "    </tr>\n",
       "    <tr>\n",
       "      <th>9</th>\n",
       "      <td>35</td>\n",
       "      <td>CARDINAL</td>\n",
       "    </tr>\n",
       "    <tr>\n",
       "      <th>10</th>\n",
       "      <td>COORS LT 175.00\\n12 GREY</td>\n",
       "      <td>ORG</td>\n",
       "    </tr>\n",
       "    <tr>\n",
       "      <th>11</th>\n",
       "      <td>120.00</td>\n",
       "      <td>CARDINAL</td>\n",
       "    </tr>\n",
       "    <tr>\n",
       "      <th>12</th>\n",
       "      <td>7 BUD LIGHT</td>\n",
       "      <td>PRODUCT</td>\n",
       "    </tr>\n",
       "    <tr>\n",
       "      <th>13</th>\n",
       "      <td>35.00</td>\n",
       "      <td>CARDINAL</td>\n",
       "    </tr>\n",
       "    <tr>\n",
       "      <th>14</th>\n",
       "      <td>84.00</td>\n",
       "      <td>CARDINAL</td>\n",
       "    </tr>\n",
       "    <tr>\n",
       "      <th>15</th>\n",
       "      <td>\\n</td>\n",
       "      <td>GPE</td>\n",
       "    </tr>\n",
       "    <tr>\n",
       "      <th>16</th>\n",
       "      <td>2</td>\n",
       "      <td>CARDINAL</td>\n",
       "    </tr>\n",
       "    <tr>\n",
       "      <th>17</th>\n",
       "      <td>24.00</td>\n",
       "      <td>CARDINAL</td>\n",
       "    </tr>\n",
       "    <tr>\n",
       "      <th>18</th>\n",
       "      <td>8.00</td>\n",
       "      <td>CARDINAL</td>\n",
       "    </tr>\n",
       "    <tr>\n",
       "      <th>19</th>\n",
       "      <td>\\n1 SALMON BLT 13.00\\n1 DRIVER</td>\n",
       "      <td>EVENT</td>\n",
       "    </tr>\n",
       "    <tr>\n",
       "      <th>20</th>\n",
       "      <td>12.00</td>\n",
       "      <td>CARDINAL</td>\n",
       "    </tr>\n",
       "    <tr>\n",
       "      <th>21</th>\n",
       "      <td>6</td>\n",
       "      <td>CARDINAL</td>\n",
       "    </tr>\n",
       "    <tr>\n",
       "      <th>22</th>\n",
       "      <td>4,50\\nSubtotal 669.00\\n</td>\n",
       "      <td>ORG</td>\n",
       "    </tr>\n",
       "    <tr>\n",
       "      <th>23</th>\n",
       "      <td>722.52</td>\n",
       "      <td>MONEY</td>\n",
       "    </tr>\n",
       "    <tr>\n",
       "      <th>24</th>\n",
       "      <td>\\nFOR HOTEL GUEST ROOM CHARGE</td>\n",
       "      <td>ORG</td>\n",
       "    </tr>\n",
       "    <tr>\n",
       "      <th>25</th>\n",
       "      <td>\\n</td>\n",
       "      <td>GPE</td>\n",
       "    </tr>\n",
       "  </tbody>\n",
       "</table>\n",
       "</div>"
      ],
      "text/plain": [
       "                              text     label\n",
       "0                       GOLF HOUSE       ORG\n",
       "1                             1103      DATE\n",
       "2                           CLAIRE       ORG\n",
       "3                               \\n       GPE\n",
       "4                     1275 6st 1\\n      DATE\n",
       "5                               10  CARDINAL\n",
       "6                               35  CARDINAL\n",
       "7                         HEINEKEN       ORG\n",
       "8                           157.50   PRODUCT\n",
       "9                               35  CARDINAL\n",
       "10        COORS LT 175.00\\n12 GREY       ORG\n",
       "11                          120.00  CARDINAL\n",
       "12                     7 BUD LIGHT   PRODUCT\n",
       "13                           35.00  CARDINAL\n",
       "14                           84.00  CARDINAL\n",
       "15                              \\n       GPE\n",
       "16                               2  CARDINAL\n",
       "17                           24.00  CARDINAL\n",
       "18                            8.00  CARDINAL\n",
       "19  \\n1 SALMON BLT 13.00\\n1 DRIVER     EVENT\n",
       "20                           12.00  CARDINAL\n",
       "21                               6  CARDINAL\n",
       "22         4,50\\nSubtotal 669.00\\n       ORG\n",
       "23                          722.52     MONEY\n",
       "24   \\nFOR HOTEL GUEST ROOM CHARGE       ORG\n",
       "25                              \\n       GPE"
      ]
     },
     "execution_count": 6,
     "metadata": {},
     "output_type": "execute_result"
    }
   ],
   "source": [
    "doc = nlp(ocr_text)\n",
    "df = pd.DataFrame(columns=['text', 'label'])\n",
    "text, label = [], []\n",
    "for entity in doc.ents:\n",
    "    text.append(entity.text)\n",
    "    label.append(entity.label_)\n",
    "df['text'] = text\n",
    "df['label'] = label\n",
    "df.head(50)"
   ]
  },
  {
   "cell_type": "markdown",
   "metadata": {},
   "source": [
    "Can get the total price using the default 'MONEY' spacy entity type:"
   ]
  },
  {
   "cell_type": "code",
   "execution_count": 7,
   "metadata": {},
   "outputs": [
    {
     "data": {
      "text/plain": [
       "722.52"
      ]
     },
     "execution_count": 7,
     "metadata": {},
     "output_type": "execute_result"
    }
   ],
   "source": [
    "total = 0\n",
    "for entity in doc.ents:\n",
    "    if (entity.label_ == 'MONEY'):\n",
    "        total = float(entity.text)\n",
    "total"
   ]
  },
  {
   "cell_type": "markdown",
   "metadata": {},
   "source": [
    "Techniques like NER (named entity recognition) could be used here, using tools like spacy.\n",
    "Spacy could be trained with custom entities, e.g. \"item\" \"price\" \"total price\" \"account number\""
   ]
  },
  {
   "cell_type": "markdown",
   "metadata": {},
   "source": [
    "### Some data cleaning & investigation"
   ]
  },
  {
   "cell_type": "code",
   "execution_count": 8,
   "metadata": {},
   "outputs": [
    {
     "data": {
      "text/plain": [
       "['THE SUNCADIA RESORT',\n",
       " '',\n",
       " 'TC GOLF HOUSE',\n",
       " '1103 CLAIRE i\"',\n",
       " 'V5 1275 6st 1',\n",
       " 'SARK',\n",
       " '',\n",
       " \"JUNOS'11 10: 16AM\",\n",
       " '',\n",
       " '35 HEINEKEN 157.50',\n",
       " '35 COORS LT 175.00',\n",
       " '12 GREY GOSSE 120.00',\n",
       " '7 BUD LIGHT 35.00',\n",
       " '7 BAJA CHICKEN 84.00',\n",
       " '2 RANCHER 24.00',\n",
       " '1 CLASSIC 8.00',\n",
       " '1 SALMON BLT 13.00',\n",
       " '1 DRIVER 12.00',\n",
       " '6 CORONA 36.00',\n",
       " '2 7-UP 4,50',\n",
       " 'Subtotal 669.00',\n",
       " 'Tax 53.52',\n",
       " '',\n",
       " '3:36 Arent Que $722.52',\n",
       " 'FOR HOTEL GUEST ROOM CHARGE ONLY',\n",
       " 'Gratuity.']"
      ]
     },
     "execution_count": 8,
     "metadata": {},
     "output_type": "execute_result"
    }
   ],
   "source": [
    "ocr_arr = ocr_text.split('\\n')\n",
    "ocr_arr"
   ]
  },
  {
   "cell_type": "markdown",
   "metadata": {},
   "source": [
    "Getting every line ending with a number:"
   ]
  },
  {
   "cell_type": "code",
   "execution_count": 9,
   "metadata": {},
   "outputs": [],
   "source": [
    "def valid_line(s):\n",
    "    str_arr = s.split(' ')\n",
    "    return (str_arr[len(str_arr) - 1].replace(\".\", \"\", 1).isdigit())\n",
    "\n",
    "def number_ending_lines(items):\n",
    "    return list(filter(lambda x: valid_line(x), items))"
   ]
  },
  {
   "cell_type": "code",
   "execution_count": 10,
   "metadata": {},
   "outputs": [
    {
     "data": {
      "text/plain": [
       "['V5 1275 6st 1',\n",
       " '35 HEINEKEN 157.50',\n",
       " '35 COORS LT 175.00',\n",
       " '12 GREY GOSSE 120.00',\n",
       " '7 BUD LIGHT 35.00',\n",
       " '7 BAJA CHICKEN 84.00',\n",
       " '2 RANCHER 24.00',\n",
       " '1 CLASSIC 8.00',\n",
       " '1 SALMON BLT 13.00',\n",
       " '1 DRIVER 12.00',\n",
       " '6 CORONA 36.00',\n",
       " 'Subtotal 669.00',\n",
       " 'Tax 53.52']"
      ]
     },
     "execution_count": 10,
     "metadata": {},
     "output_type": "execute_result"
    }
   ],
   "source": [
    "filtered_list = number_ending_lines(ocr_arr)\n",
    "filtered_list"
   ]
  },
  {
   "cell_type": "markdown",
   "metadata": {},
   "source": [
    "Trying to use subset sum on all the numbers at the end of lines to sum to the total. e.g. the items purchased"
   ]
  },
  {
   "cell_type": "code",
   "execution_count": 11,
   "metadata": {},
   "outputs": [],
   "source": [
    "def subsetsum(array,num):\n",
    "    if num == 0 or num < 1:\n",
    "        return None\n",
    "    elif len(array) == 0:\n",
    "        return None\n",
    "    else:\n",
    "        if array[0] == num:\n",
    "            return [array[0]]\n",
    "        else:\n",
    "            with_v = subsetsum(array[1:],(num - array[0])) \n",
    "            if with_v:\n",
    "                return [array[0]] + with_v\n",
    "            else:\n",
    "                return subsetsum(array[1:],num)\n",
    "\n",
    "def get_prices(items):\n",
    "    prices = []\n",
    "    for item in items:\n",
    "        prices.append(float(item.split(' ')[len(item.split(' ')) - 1]))\n",
    "    prices = list(filter(lambda x: x != total, prices))\n",
    "    return prices"
   ]
  },
  {
   "cell_type": "code",
   "execution_count": 12,
   "metadata": {},
   "outputs": [
    {
     "data": {
      "text/plain": [
       "[1.0,\n",
       " 157.5,\n",
       " 175.0,\n",
       " 120.0,\n",
       " 35.0,\n",
       " 84.0,\n",
       " 24.0,\n",
       " 8.0,\n",
       " 13.0,\n",
       " 12.0,\n",
       " 36.0,\n",
       " 669.0,\n",
       " 53.52]"
      ]
     },
     "execution_count": 12,
     "metadata": {},
     "output_type": "execute_result"
    }
   ],
   "source": [
    "prices = get_prices(filtered_list)\n",
    "prices"
   ]
  },
  {
   "cell_type": "code",
   "execution_count": 13,
   "metadata": {},
   "outputs": [
    {
     "data": {
      "text/plain": [
       "722.52"
      ]
     },
     "execution_count": 13,
     "metadata": {},
     "output_type": "execute_result"
    },
    {
     "name": "stdout",
     "output_type": "stream",
     "text": [
      "The history saving thread hit an unexpected error (OperationalError('disk I/O error')).History will not be written to the database.\n"
     ]
    }
   ],
   "source": [
    "total"
   ]
  },
  {
   "cell_type": "markdown",
   "metadata": {},
   "source": [
    "Converting to integers:"
   ]
  },
  {
   "cell_type": "code",
   "execution_count": 14,
   "metadata": {},
   "outputs": [],
   "source": [
    "prices_penny = list(map(lambda x: int(x * 100), prices))\n",
    "total_penny = int(total * 100)\n",
    "ans = subsetsum(prices_penny, total_penny)"
   ]
  },
  {
   "cell_type": "code",
   "execution_count": 15,
   "metadata": {},
   "outputs": [
    {
     "name": "stdout",
     "output_type": "stream",
     "text": [
      "[66900, 5352]\n"
     ]
    }
   ],
   "source": [
    "print (ans)"
   ]
  },
  {
   "cell_type": "markdown",
   "metadata": {},
   "source": [
    "The (subtotal + tax) is picked up as a valid subset of the total"
   ]
  },
  {
   "cell_type": "markdown",
   "metadata": {},
   "source": [
    "The '2 7-UP 4,50' line was ignored as the decimal point was read as a comma. Adding it back:"
   ]
  },
  {
   "cell_type": "code",
   "execution_count": 16,
   "metadata": {},
   "outputs": [
    {
     "name": "stdout",
     "output_type": "stream",
     "text": [
      "[15750, 17500, 12000, 3500, 8400, 2400, 800, 1300, 1200, 3600, 5352, 450]\n"
     ]
    }
   ],
   "source": [
    "prices_penny.append(int(4.50 * 100))\n",
    "ans_with_7up = subsetsum(prices_penny, total_penny)\n",
    "print (ans_with_7up)"
   ]
  },
  {
   "cell_type": "markdown",
   "metadata": {},
   "source": [
    "Adding the 4.50 back gives us a valid subset of our original set - showing which numbers represent subpurchases on this receipt"
   ]
  }
 ],
 "metadata": {
  "kernelspec": {
   "display_name": "Python 3",
   "language": "python",
   "name": "python3"
  },
  "language_info": {
   "codemirror_mode": {
    "name": "ipython",
    "version": 3
   },
   "file_extension": ".py",
   "mimetype": "text/x-python",
   "name": "python",
   "nbconvert_exporter": "python",
   "pygments_lexer": "ipython3",
   "version": "3.7.0"
  }
 },
 "nbformat": 4,
 "nbformat_minor": 2
}
